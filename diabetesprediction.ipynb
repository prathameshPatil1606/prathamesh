{
  "nbformat": 4,
  "nbformat_minor": 0,
  "metadata": {
    "colab": {
      "provenance": [],
      "authorship_tag": "ABX9TyOUJlgskaKOGem9xgd9lm/i",
      "include_colab_link": true
    },
    "kernelspec": {
      "name": "python3",
      "display_name": "Python 3"
    },
    "language_info": {
      "name": "python"
    }
  },
  "cells": [
    {
      "cell_type": "markdown",
      "metadata": {
        "id": "view-in-github",
        "colab_type": "text"
      },
      "source": [
        "<a href=\"https://colab.research.google.com/github/prathameshPatil1606/prathamesh/blob/main/diabetesprediction.ipynb\" target=\"_parent\"><img src=\"https://colab.research.google.com/assets/colab-badge.svg\" alt=\"Open In Colab\"/></a>"
      ]
    },
    {
      "cell_type": "markdown",
      "source": [
        "## Project:- Diabetes Pridiction"
      ],
      "metadata": {
        "id": "Fxlu9wjdnTGJ"
      }
    },
    {
      "cell_type": "markdown",
      "source": [
        " **Import Required Libraries**\n",
        "\n",
        "This cell imports necessary Python libraries:\n",
        "\n",
        "numpy and pandas: For numerical operations and data manipulation.\n",
        "\n",
        "matplotlib.pyplot and seaborn: For data visualization.\n",
        "\n",
        "sklearn: Contains machine learning tools including model selection, preprocessing, training, and evaluation.\n",
        "\n",
        "imblearn: Provides SMOTE for handling imbalanced datasets.\n",
        "\n",
        "joblib: For saving and loading trained models.\n",
        "\n"
      ],
      "metadata": {
        "id": "8HjtIo9VkWYp"
      }
    },
    {
      "cell_type": "code",
      "execution_count": null,
      "metadata": {
        "id": "AgDebY94HMqh"
      },
      "outputs": [],
      "source": [
        "#  Import Required Libraries\n",
        "import numpy as np\n",
        "import pandas as pd\n",
        "import matplotlib.pyplot as plt\n",
        "import seaborn as sns\n",
        "\n",
        "from sklearn.model_selection import train_test_split, GridSearchCV\n",
        "from sklearn.preprocessing import StandardScaler\n",
        "from sklearn.ensemble import RandomForestClassifier\n",
        "from sklearn.metrics import accuracy_score, confusion_matrix, classification_report, roc_auc_score, roc_curve\n",
        "from imblearn.over_sampling import SMOTE\n",
        "import joblib"
      ]
    },
    {
      "cell_type": "markdown",
      "source": [
        "**Load the Dataset**\n",
        "\n",
        "Loads the diabetes dataset from a CSV file into a Pandas DataFrame, allowing structured data manipulation and analysis."
      ],
      "metadata": {
        "id": "-c7fOD_YkjMJ"
      }
    },
    {
      "cell_type": "code",
      "source": [
        "\n",
        "# Load the Dataset\n",
        "df = pd.read_csv('diabetes.csv')\n",
        "print(\"First 5 rows:\\n\", df.head())"
      ],
      "metadata": {
        "colab": {
          "base_uri": "https://localhost:8080/"
        },
        "id": "yKHbkTCAHNqT",
        "outputId": "0bce9172-57a2-4b0f-d743-bd6679a40a9e"
      },
      "execution_count": null,
      "outputs": [
        {
          "output_type": "stream",
          "name": "stdout",
          "text": [
            "First 5 rows:\n",
            "    Pregnancies  Glucose  BloodPressure  SkinThickness  Insulin   BMI  \\\n",
            "0            6      148             72             35        0  33.6   \n",
            "1            1       85             66             29        0  26.6   \n",
            "2            8      183             64              0        0  23.3   \n",
            "3            1       89             66             23       94  28.1   \n",
            "4            0      137             40             35      168  43.1   \n",
            "\n",
            "   DiabetesPedigreeFunction  Age  Outcome  \n",
            "0                     0.627   50        1  \n",
            "1                     0.351   31        0  \n",
            "2                     0.672   32        1  \n",
            "3                     0.167   21        0  \n",
            "4                     2.288   33        1  \n"
          ]
        }
      ]
    },
    {
      "cell_type": "markdown",
      "source": [
        "**Data Cleaning - Replace 0s with NaN**\n",
        "\n",
        "Zeros in medical features like Glucose or BMI are not physiologically possible. This step replaces zeros with NaNs to treat them as missing values.\n",
        "\n"
      ],
      "metadata": {
        "id": "LyOyjOS5kw36"
      }
    },
    {
      "cell_type": "code",
      "source": [
        "\n",
        "# Data Cleaning - Replace 0s with NaN in columns where 0 is not valid\n",
        "cols_to_clean = ['Glucose', 'BloodPressure', 'SkinThickness', 'Insulin', 'BMI']\n",
        "df[cols_to_clean] = df[cols_to_clean].replace(0, np.nan)\n"
      ],
      "metadata": {
        "id": "UwUt3Rw0HVYZ"
      },
      "execution_count": null,
      "outputs": []
    },
    {
      "cell_type": "markdown",
      "source": [
        "**Fill Missing Values with Median**\n",
        "\n",
        " Missing values are replaced with median values to maintain the central tendency while minimizing the effect of outliers.\n",
        "\n"
      ],
      "metadata": {
        "id": "xtWa9k27lBtl"
      }
    },
    {
      "cell_type": "code",
      "source": [
        "\n",
        "# Fill missing values with median\n",
        "df.fillna(df.median(), inplace=True)\n"
      ],
      "metadata": {
        "id": "HvVO85_rHjk1"
      },
      "execution_count": null,
      "outputs": []
    },
    {
      "cell_type": "markdown",
      "source": [
        "**Explore the Dataset**\n",
        "\n",
        "Shows dataset size and class distribution.\n",
        "\n",
        "Visualizes imbalance between diabetic (1) and non-diabetic (0) classes, which is essential for deciding resampling techniques.\n",
        "\n"
      ],
      "metadata": {
        "id": "BAW8Rfw4lN05"
      }
    },
    {
      "cell_type": "code",
      "source": [
        "# Explore the dataset\n",
        "print(\"\\nDataset Shape:\", df.shape)\n",
        "print(\"\\nClass distribution:\\n\", df['Outcome'].value_counts())\n",
        "\n",
        "sns.countplot(x='Outcome', data=df)\n",
        "plt.title('Outcome Distribution')\n",
        "plt.show()\n"
      ],
      "metadata": {
        "colab": {
          "base_uri": "https://localhost:8080/",
          "height": 611
        },
        "id": "rshyEvzXHnAp",
        "outputId": "866a4135-8b1b-414d-d8b7-25d01539dd61"
      },
      "execution_count": null,
      "outputs": [
        {
          "output_type": "stream",
          "name": "stdout",
          "text": [
            "\n",
            "Dataset Shape: (768, 9)\n",
            "\n",
            "Class distribution:\n",
            " Outcome\n",
            "0    500\n",
            "1    268\n",
            "Name: count, dtype: int64\n"
          ]
        },
        {
          "output_type": "display_data",
          "data": {
            "text/plain": [
              "<Figure size 640x480 with 1 Axes>"
            ],
            "image/png": "[encoded data removed]"
          },
          "metadata": {}
        }
      ]
    },
    {
      "cell_type": "markdown",
      "source": [
        "**Statistical Summary**\n",
        "\n",
        "Provides summary statistics (mean, std, min, max, etc.) of each feature to understand data distribution and detect anomalies.\n",
        "\n"
      ],
      "metadata": {
        "id": "Fn3hRs8-lbgu"
      }
    },
    {
      "cell_type": "code",
      "source": [
        "\n",
        "# Statistical Summary\n",
        "print(df.describe())\n"
      ],
      "metadata": {
        "colab": {
          "base_uri": "https://localhost:8080/"
        },
        "id": "JSB-fAixHp0D",
        "outputId": "f57fe083-bc83-4128-a07c-a14874b08318"
      },
      "execution_count": null,
      "outputs": [
        {
          "output_type": "stream",
          "name": "stdout",
          "text": [
            "       Pregnancies     Glucose  BloodPressure  SkinThickness     Insulin  \\\n",
            "count   768.000000  768.000000     768.000000     768.000000  768.000000   \n",
            "mean      3.845052  121.656250      72.386719      29.108073  140.671875   \n",
            "std       3.369578   30.438286      12.096642       8.791221   86.383060   \n",
            "min       0.000000   44.000000      24.000000       7.000000   14.000000   \n",
            "25%       1.000000   99.750000      64.000000      25.000000  121.500000   \n",
            "50%       3.000000  117.000000      72.000000      29.000000  125.000000   \n",
            "75%       6.000000  140.250000      80.000000      32.000000  127.250000   \n",
            "max      17.000000  199.000000     122.000000      99.000000  846.000000   \n",
            "\n",
            "              BMI  DiabetesPedigreeFunction         Age     Outcome  \n",
            "count  768.000000                768.000000  768.000000  768.000000  \n",
            "mean    32.455208                  0.471876   33.240885    0.348958  \n",
            "std      6.875177                  0.331329   11.760232    0.476951  \n",
            "min     18.200000                  0.078000   21.000000    0.000000  \n",
            "25%     27.500000                  0.243750   24.000000    0.000000  \n",
            "50%     32.300000                  0.372500   29.000000    0.000000  \n",
            "75%     36.600000                  0.626250   41.000000    1.000000  \n",
            "max     67.100000                  2.420000   81.000000    1.000000  \n"
          ]
        }
      ]
    },
    {
      "cell_type": "markdown",
      "source": [
        "**Feature Selection**\n",
        "\n",
        "Separates input features (X) and target label (Y). This is needed for training machine learning models.\n",
        "\n"
      ],
      "metadata": {
        "id": "IdFDQ3FpllGC"
      }
    },
    {
      "cell_type": "code",
      "source": [
        "\n",
        "# Feature Selection\n",
        "X = df.drop(columns='Outcome', axis=1)\n",
        "Y = df['Outcome']\n",
        "print(\"\\nFeatures used:\", list(X.columns))\n"
      ],
      "metadata": {
        "colab": {
          "base_uri": "https://localhost:8080/"
        },
        "id": "wrdJgswTHzLz",
        "outputId": "5430819d-e9d8-4862-8e31-23669f7ae014"
      },
      "execution_count": null,
      "outputs": [
        {
          "output_type": "stream",
          "name": "stdout",
          "text": [
            "\n",
            "Features used: ['Pregnancies', 'Glucose', 'BloodPressure', 'SkinThickness', 'Insulin', 'BMI', 'DiabetesPedigreeFunction', 'Age']\n"
          ]
        }
      ]
    },
    {
      "cell_type": "markdown",
      "source": [
        " **Scaling**\n",
        "\n",
        " Standardizes features by removing the mean and scaling to unit variance. This improves model performance, especially for distance-based algorithms.\n",
        "\n"
      ],
      "metadata": {
        "id": "yiHZz9WnlrDx"
      }
    },
    {
      "cell_type": "code",
      "source": [
        "\n",
        "# Scaling\n",
        "scaler = StandardScaler()\n",
        "X_scaled = scaler.fit_transform(X)"
      ],
      "metadata": {
        "id": "UBFSbNayH4qm"
      },
      "execution_count": null,
      "outputs": []
    },
    {
      "cell_type": "markdown",
      "source": [
        "**Train-Test Split**\n",
        "\n",
        "Splits data into training and testing sets to evaluate the model on unseen data. Stratified split ensures equal class proportions."
      ],
      "metadata": {
        "id": "GKsdnp7llzc_"
      }
    },
    {
      "cell_type": "code",
      "source": [
        "# Train-Test Split\n",
        "X_train, X_test, Y_train, Y_test = train_test_split(X_scaled, Y, test_size=0.2, stratify=Y, random_state=42)\n"
      ],
      "metadata": {
        "id": "dtU7vixgH73-"
      },
      "execution_count": null,
      "outputs": []
    },
    {
      "cell_type": "markdown",
      "source": [
        "**Handle Imbalance with SMOTE**\n",
        "\n",
        "SMOTE generates synthetic examples of the minority class to balance the dataset. This helps prevent model bias toward the majority class."
      ],
      "metadata": {
        "id": "3eofd_5Ol63d"
      }
    },
    {
      "cell_type": "code",
      "source": [
        "# Handle Imbalance with SMOTE\n",
        "smote = SMOTE(random_state=42)\n",
        "X_train_sm, Y_train_sm = smote.fit_resample(X_train, Y_train)\n",
        "print(\"After SMOTE:\", pd.Series(Y_train_sm).value_counts())\n"
      ],
      "metadata": {
        "colab": {
          "base_uri": "https://localhost:8080/"
        },
        "id": "X2abqkHIH-xw",
        "outputId": "9a2138bd-5df3-442d-a7dd-58d5b783a1a3"
      },
      "execution_count": null,
      "outputs": [
        {
          "output_type": "stream",
          "name": "stdout",
          "text": [
            "After SMOTE: Outcome\n",
            "0    400\n",
            "1    400\n",
            "Name: count, dtype: int64\n"
          ]
        }
      ]
    },
    {
      "cell_type": "markdown",
      "source": [
        "**Grid Search for Best Parameters**\n",
        "\n",
        "Grid Search systematically searches combinations of hyperparameters to find the best-performing configuration using cross-validation.\n",
        "\n"
      ],
      "metadata": {
        "id": "f3cZRdyJmEX1"
      }
    },
    {
      "cell_type": "code",
      "source": [
        "\n",
        "# Grid Search for Best Parameters\n",
        "params = {\n",
        "    'n_estimators': [100, 150],\n",
        "    'max_depth': [4, 6, 8],\n",
        "    'min_samples_split': [2, 4]\n",
        "}\n",
        "rf = RandomForestClassifier(random_state=42)\n",
        "grid = GridSearchCV(rf, params, cv=5, scoring='accuracy', n_jobs=-1)\n",
        "grid.fit(X_train_sm, Y_train_sm)\n",
        "\n",
        "best_rf = grid.best_estimator_\n",
        "print(\"Best Params:\", grid.best_params_)"
      ],
      "metadata": {
        "colab": {
          "base_uri": "https://localhost:8080/"
        },
        "id": "egG9-5Q_ICEj",
        "outputId": "e8c1cc96-16f4-420b-c957-8bfb7c28e40d"
      },
      "execution_count": null,
      "outputs": [
        {
          "output_type": "stream",
          "name": "stdout",
          "text": [
            "Best Params: {'max_depth': 8, 'min_samples_split': 2, 'n_estimators': 150}\n"
          ]
        }
      ]
    },
    {
      "cell_type": "markdown",
      "source": [
        "**Evaluate the Model**\n",
        "\n",
        "Predicts outcomes on training and testing data. Compares accuracy to detect overfitting or underfitting."
      ],
      "metadata": {
        "id": "6_54NbkzmTBi"
      }
    },
    {
      "cell_type": "code",
      "source": [
        "# Evaluate the Model\n",
        "train_preds = best_rf.predict(X_train_sm)\n",
        "test_preds = best_rf.predict(X_test)\n",
        "\n",
        "print(\"Training Accuracy:\", accuracy_score(Y_train_sm, train_preds))\n",
        "print(\"Test Accuracy:\", accuracy_score(Y_test, test_preds))\n"
      ],
      "metadata": {
        "colab": {
          "base_uri": "https://localhost:8080/"
        },
        "id": "kR6832wYIOc3",
        "outputId": "b87264f7-a873-4f7b-c44c-e59da83c8ab5"
      },
      "execution_count": null,
      "outputs": [
        {
          "output_type": "stream",
          "name": "stdout",
          "text": [
            "Training Accuracy: 0.9525\n",
            "Test Accuracy: 0.7207792207792207\n"
          ]
        }
      ]
    },
    {
      "cell_type": "markdown",
      "source": [
        "**Confusion Matrix**\n",
        "\n",
        "Confusion matrix visualizes true vs. predicted labels, helping evaluate how well the model classifies each class.\n",
        "\n"
      ],
      "metadata": {
        "id": "0AcXur7Nmbfy"
      }
    },
    {
      "cell_type": "code",
      "source": [
        "# Confusion Matrix\n",
        "cm = confusion_matrix(Y_test, test_preds)\n",
        "sns.heatmap(cm, annot=True, fmt='d', cmap='Greens')\n",
        "plt.title('Confusion Matrix')\n",
        "plt.xlabel('Predicted')\n",
        "plt.ylabel('Actual')\n",
        "plt.show()"
      ],
      "metadata": {
        "colab": {
          "base_uri": "https://localhost:8080/",
          "height": 472
        },
        "id": "mBmKlwoEIbxC",
        "outputId": "a607606e-6839-4acc-bbf6-480c8ceba66f"
      },
      "execution_count": null,
      "outputs": [
        {
          "output_type": "display_data",
          "data": {
            "text/plain": [
              "<Figure size 640x480 with 2 Axes>"
            ],
            "image/png": "[encoded data removed]"
          },
          "metadata": {}
        }
      ]
    },
    {
      "cell_type": "markdown",
      "source": [
        "**Classification Report**\n",
        "\n",
        "Provides precision, recall, F1-score, and support for each class — crucial metrics for imbalanced classification.\n",
        "\n"
      ],
      "metadata": {
        "id": "qKtkVe5NmkJ1"
      }
    },
    {
      "cell_type": "code",
      "source": [
        "\n",
        "# Classification Report\n",
        "print(\"\\nClassification Report:\\n\", classification_report(Y_test, test_preds))\n"
      ],
      "metadata": {
        "colab": {
          "base_uri": "https://localhost:8080/"
        },
        "id": "268mgCu2IfSp",
        "outputId": "3e42846f-d7f6-460e-9bcd-799f0879c058"
      },
      "execution_count": null,
      "outputs": [
        {
          "output_type": "stream",
          "name": "stdout",
          "text": [
            "\n",
            "Classification Report:\n",
            "               precision    recall  f1-score   support\n",
            "\n",
            "           0       0.84      0.71      0.77       100\n",
            "           1       0.58      0.74      0.65        54\n",
            "\n",
            "    accuracy                           0.72       154\n",
            "   macro avg       0.71      0.73      0.71       154\n",
            "weighted avg       0.75      0.72      0.73       154\n",
            "\n"
          ]
        }
      ]
    },
    {
      "cell_type": "markdown",
      "source": [
        "**ROC-AUC Curve**\n",
        "\n",
        "ROC curve shows trade-off between sensitivity and specificity. AUC quantifies model's ability to distinguish classes — higher is better.\n",
        "\n"
      ],
      "metadata": {
        "id": "fHhja3EZmqY3"
      }
    },
    {
      "cell_type": "code",
      "source": [
        "\n",
        "# ROC-AUC Curve\n",
        "probs = best_rf.predict_proba(X_test)[:, 1]\n",
        "fpr, tpr, _ = roc_curve(Y_test, probs)\n",
        "roc_auc = roc_auc_score(Y_test, probs)\n",
        "\n",
        "plt.figure(figsize=(6, 4))\n",
        "plt.plot(fpr, tpr, label=f'ROC curve (AUC = {roc_auc:.2f})')\n",
        "plt.plot([0, 1], [0, 1], linestyle='--')\n",
        "plt.xlabel('False Positive Rate')\n",
        "plt.ylabel('True Positive Rate')\n",
        "plt.title('ROC-AUC Curve')\n",
        "plt.legend()\n",
        "plt.grid()\n",
        "plt.show()"
      ],
      "metadata": {
        "colab": {
          "base_uri": "https://localhost:8080/",
          "height": 410
        },
        "id": "xBLaWrheIlA1",
        "outputId": "7fdf11d3-57c2-447e-a255-a32d0e8d6423"
      },
      "execution_count": null,
      "outputs": [
        {
          "output_type": "display_data",
          "data": {
            "text/plain": [
              "<Figure size 600x400 with 1 Axes>"
            ],
            "image/png": "[encoded data removed]"
          },
          "metadata": {}
        }
      ]
    },
    {
      "cell_type": "markdown",
      "source": [
        "**Feature Importance**\n",
        "\n",
        "Random Forest provides feature importance scores, which show which input features were most influential in prediction."
      ],
      "metadata": {
        "id": "6r7X9qDum4O8"
      }
    },
    {
      "cell_type": "code",
      "source": [
        "\n",
        "# Feature Importance\n",
        "importances = pd.Series(best_rf.feature_importances_, index=X.columns)\n",
        "importances.sort_values().plot(kind='barh', title='Feature Importances')\n",
        "plt.tight_layout()\n",
        "plt.show()\n"
      ],
      "metadata": {
        "colab": {
          "base_uri": "https://localhost:8080/",
          "height": 487
        },
        "id": "eSkmWci1IqYt",
        "outputId": "0c16ba0c-0132-48d9-f36a-e9d87043f3f4"
      },
      "execution_count": null,
      "outputs": [
        {
          "output_type": "display_data",
          "data": {
            "text/plain": [
              "<Figure size 640x480 with 1 Axes>"
            ],
            "image/png": "[encoded data removed]"
          },
          "metadata": {}
        }
      ]
    },
    {
      "cell_type": "markdown",
      "source": [
        "**Save Model and Scaler**\n",
        "\n",
        "Persists the trained model and scaler so they can be reused later for predictions without retraining."
      ],
      "metadata": {
        "id": "eO2Mh9bDm9cS"
      }
    },
    {
      "cell_type": "code",
      "source": [
        "# Save Model and Scaler\n",
        "joblib.dump(best_rf, 'diabetes_model.pkl')\n",
        "joblib.dump(scaler, 'scaler.pkl')\n",
        "print(\"Model and scaler saved.\")\n"
      ],
      "metadata": {
        "colab": {
          "base_uri": "https://localhost:8080/"
        },
        "id": "6hXzuvDMIwgM",
        "outputId": "5b7c1445-a085-4bb2-d08b-6da8852efce8"
      },
      "execution_count": null,
      "outputs": [
        {
          "output_type": "stream",
          "name": "stdout",
          "text": [
            "Model and scaler saved.\n"
          ]
        }
      ]
    },
    {
      "cell_type": "markdown",
      "source": [
        " **Predict for New Patient**\n",
        "\n",
        " Takes new patient data, scales it using the saved scaler, and predicts diabetes status using the saved model — simulating real-world deployment.\n",
        "\n"
      ],
      "metadata": {
        "id": "aWE-MvZinGnD"
      }
    },
    {
      "cell_type": "code",
      "source": [
        "# Predict for New Patient\n",
        "import numpy as np\n",
        "import joblib\n",
        "import pandas as pd # Import pandas\n",
        "\n",
        "input_data = (3,158,76,36,245,31.6,0.851,28)\n",
        "input_array = np.asarray(input_data).reshape(1, -1)\n",
        "\n",
        "\n",
        "# Load scaler and model (just to simulate real deployment)\n",
        "loaded_scaler = joblib.load('scaler.pkl')\n",
        "loaded_model = joblib.load('diabetes_model.pkl')\n",
        "\n",
        "# Get feature names from the original data used to fit the scaler\n",
        "# Assuming the original data used to fit the scaler had the same column names as df\n",
        "feature_names = ['Pregnancies', 'Glucose', 'BloodPressure', 'SkinThickness', 'Insulin', 'BMI', 'DiabetesPedigreeFunction', 'Age']\n",
        "\n",
        "# Convert input_array to a DataFrame with feature names\n",
        "input_df = pd.DataFrame(input_array, columns=feature_names)\n",
        "\n",
        "# Transform and predict using the DataFrame\n",
        "input_scaled = loaded_scaler.transform(input_df)\n",
        "prediction = loaded_model.predict(input_scaled)\n",
        "\n",
        "if prediction[0] == 1:\n",
        "    print(\"\\nThe person is diabetic\")\n",
        "else:\n",
        "    print(\"\\nThe person is not diabetic\")"
      ],
      "metadata": {
        "colab": {
          "base_uri": "https://localhost:8080/"
        },
        "id": "wR3UatTqI1lW",
        "outputId": "3462bb1f-761a-444d-a613-809b92de465f"
      },
      "execution_count": null,
      "outputs": [
        {
          "output_type": "stream",
          "name": "stdout",
          "text": [
            "\n",
            "The person is diabetic\n"
          ]
        }
      ]
    },
    {
      "cell_type": "code",
      "source": [],
      "metadata": {
        "id": "ySzbCeGhI8Fz"
      },
      "execution_count": null,
      "outputs": []
    }
  ]
}